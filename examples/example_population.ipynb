{
 "cells": [
  {
   "cell_type": "code",
   "execution_count": 46,
   "metadata": {},
   "outputs": [],
   "source": [
    "%load_ext autoreload\n",
    "%autoreload 2\n",
    "%matplotlib widget\n",
    "\n",
    "import sys, os, copy\n",
    "import numpy as np\n",
    "from matplotlib import pyplot as plt\n",
    "from xopt import Xopt\n",
    "from GPT_tools.front_tools import *\n",
    "\n",
    "base_path = '.'"
   ]
  },
  {
   "cell_type": "markdown",
   "metadata": {},
   "source": [
    "# Show fronts"
   ]
  },
  {
   "cell_type": "code",
   "execution_count": null,
   "metadata": {},
   "outputs": [],
   "source": [
    "# Example of plotting a front, and being able to click the plot to grab the machine settings\n",
    "\n",
    "show_fronts(-1, pop_path=os.path.join(base_path, '.'), xopt_file=os.path.join(base_path, 'xopt.in.yaml'), \n",
    "            obj1_key = 'end_sigma_t', obj2_key = 'end_norm_emit_x',\n",
    "            xlim = [0, 1.7], ylim = [0, 90],\n",
    "            xscale = 1e12, yscale = 1e9, show_settings = True)"
   ]
  },
  {
   "cell_type": "code",
   "execution_count": null,
   "metadata": {},
   "outputs": [],
   "source": [
    "# Example of plotting two fronts\n",
    "\n",
    "show_fronts(-1, pop_path=os.path.join(base_path, '.'), xopt_file=os.path.join(base_path, 'xopt.in.yaml'), \n",
    "            obj1_key = 'end_sigma_t', obj2_key = 'end_norm_emit_x',\n",
    "            xlim = [0, 1.7], ylim = [0, 90],\n",
    "            xscale = 1e12, yscale = 1e9, \n",
    "            legend='Example 1')\n",
    "show_fronts(-1, pop_path=os.path.join(base_path, '.'), xopt_file=os.path.join(base_path, 'xopt.in.yaml'), \n",
    "            obj1_key = 'end_sigma_t', obj2_key = 'end_norm_emit_x',\n",
    "            xlim = [0, 1.7], ylim = [0, 90],\n",
    "            xscale = 1.1e12, yscale = 1e9, \n",
    "            new_fig = False, legend='Example 2')"
   ]
  },
  {
   "cell_type": "markdown",
   "metadata": {},
   "source": [
    "# Check trends in settings"
   ]
  },
  {
   "cell_type": "code",
   "execution_count": null,
   "metadata": {},
   "outputs": [],
   "source": [
    "# Example of coloring the front using all the other machine settings to look for trends\n",
    "\n",
    "color_all_settings(-1, pop_path=os.path.join(base_path, '.'), xopt_file=os.path.join(base_path, 'xopt.in.yaml'))"
   ]
  },
  {
   "cell_type": "code",
   "execution_count": null,
   "metadata": {},
   "outputs": [],
   "source": []
  }
 ],
 "metadata": {
  "kernelspec": {
   "display_name": "Python 3 (ipykernel)",
   "language": "python",
   "name": "python3"
  },
  "language_info": {
   "codemirror_mode": {
    "name": "ipython",
    "version": 3
   },
   "file_extension": ".py",
   "mimetype": "text/x-python",
   "name": "python",
   "nbconvert_exporter": "python",
   "pygments_lexer": "ipython3",
   "version": "3.10.13"
  }
 },
 "nbformat": 4,
 "nbformat_minor": 4
}
