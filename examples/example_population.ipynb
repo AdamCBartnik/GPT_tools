{
 "cells": [
  {
   "cell_type": "code",
   "execution_count": null,
   "metadata": {},
   "outputs": [],
   "source": [
    "%load_ext autoreload\n",
    "%autoreload 2\n",
    "%matplotlib widget\n",
    "\n",
    "import sys, os, copy\n",
    "import numpy as np\n",
    "from matplotlib import pyplot as plt\n",
    "from xopt import Xopt\n",
    "from GPT_tools.front_gui import front_gui\n",
    "from GPT_tools.gpt_plot_gui import gpt_plot_gui\n",
    "\n",
    "base_path = '.'"
   ]
  },
  {
   "cell_type": "markdown",
   "metadata": {},
   "source": [
    "# Show fronts"
   ]
  },
  {
   "cell_type": "code",
   "execution_count": null,
   "metadata": {},
   "outputs": [],
   "source": [
    "# Example of plotting a front, and being able to click the plot to grab the machine settings\n",
    "fg = front_gui('./xopt.in.yaml', '.')"
   ]
  },
  {
   "cell_type": "code",
   "execution_count": null,
   "metadata": {},
   "outputs": [],
   "source": [
    "# These are the original settings that you clicked on, ignoring any edits you made in the GUI\n",
    "fg.settings"
   ]
  },
  {
   "cell_type": "code",
   "execution_count": null,
   "metadata": {},
   "outputs": [],
   "source": [
    "# These are the (possibly) edited settings that will be run if you click \"Run Settings\"\n",
    "fg.run_settings"
   ]
  },
  {
   "cell_type": "code",
   "execution_count": null,
   "metadata": {},
   "outputs": [],
   "source": [
    "# After clicking \"Run Settings\", this is the resulting GPT object\n",
    "fg.gpt_data"
   ]
  },
  {
   "cell_type": "code",
   "execution_count": null,
   "metadata": {},
   "outputs": [],
   "source": [
    "# After clicking \"Run Settings\", this is the resulting GPT object\n",
    "fg.gpt_data"
   ]
  },
  {
   "cell_type": "code",
   "execution_count": null,
   "metadata": {},
   "outputs": [],
   "source": [
    "# Plot the GPT run (after clicking \"Run Settings\")\n",
    "gpt_plot_gui(fg.gpt_data)"
   ]
  },
  {
   "cell_type": "code",
   "execution_count": null,
   "metadata": {},
   "outputs": [],
   "source": []
  }
 ],
 "metadata": {
  "kernelspec": {
   "display_name": "Python 3 (ipykernel)",
   "language": "python",
   "name": "python3"
  },
  "language_info": {
   "codemirror_mode": {
    "name": "ipython",
    "version": 3
   },
   "file_extension": ".py",
   "mimetype": "text/x-python",
   "name": "python",
   "nbconvert_exporter": "python",
   "pygments_lexer": "ipython3",
   "version": "3.10.14"
  }
 },
 "nbformat": 4,
 "nbformat_minor": 4
}
