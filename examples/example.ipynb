{
 "cells": [
  {
   "cell_type": "code",
   "execution_count": null,
   "metadata": {},
   "outputs": [],
   "source": [
    "%load_ext autoreload\n",
    "%autoreload 2\n",
    "%matplotlib widget\n",
    "\n",
    "import sys, os, copy, time\n",
    "\n",
    "import numpy as np\n",
    "from gpt import GPT\n",
    "from GPT_tools.GPTExtension import run_gpt_with_particlegroup\n",
    "from GPT_tools.cathode_particlegroup import get_cathode_particlegroup\n",
    "from GPT_tools.gpt_plot import gpt_plot, gpt_plot_dist1d, gpt_plot_dist2d, gpt_plot_trajectory\n",
    "from GPT_tools.gpt_plot_gui import gpt_plot_gui\n",
    "from GPT_tools.tools import get_screen_data"
   ]
  },
  {
   "cell_type": "code",
   "execution_count": null,
   "metadata": {},
   "outputs": [],
   "source": [
    "template_dir = '.'\n",
    "DISTGEN_INPUT_FILE = os.path.join(template_dir,'distgen.in.yaml')\n",
    "GPT_INPUT_FILE = os.path.join(template_dir,'gpt.in')"
   ]
  },
  {
   "cell_type": "markdown",
   "metadata": {},
   "source": [
    "# Machine settings"
   ]
  },
  {
   "cell_type": "code",
   "execution_count": null,
   "metadata": {},
   "outputs": [],
   "source": [
    "settings = {}\n",
    "\n",
    "settings['gun_voltage'] = 140 \n",
    "settings['buncher_voltage'] = 3.47\n",
    "settings['buncher_phi_rel'] = -90.0\n",
    "\n",
    "settings['sol_1_current'] = 0.0\n",
    "settings['sol_2_current'] = 1.995\n",
    "\n",
    "settings['total_charge:value'] = 5\n",
    "settings['total_charge:units'] = 'fC'\n",
    "\n",
    "settings['start:MTE:value'] = 80\n",
    "settings['start:MTE:units'] = 'meV'\n",
    "\n",
    "settings['transforms:t0:sigma_xy:value'] = 18.0\n",
    "settings['transforms:t0:sigma_xy:units'] = 'um'\n",
    "\n",
    "settings['transforms:t1:sigma_t:value'] = 8.4\n",
    "settings['transforms:t1:sigma_t:units'] = 'ps'\n",
    "settings['t_dist:alpha:value'] = 0.25"
   ]
  },
  {
   "cell_type": "code",
   "execution_count": null,
   "metadata": {},
   "outputs": [],
   "source": [
    "settings['space_charge'] = 1\n",
    "settings['GBacc'] = 5.5\n",
    "\n",
    "settings['n_particle'] = 2000\n",
    "settings['n_screens'] = 100"
   ]
  },
  {
   "cell_type": "markdown",
   "metadata": {},
   "source": [
    "# Get and plot initial distribution"
   ]
  },
  {
   "cell_type": "code",
   "execution_count": null,
   "metadata": {},
   "outputs": [],
   "source": [
    "PG = get_cathode_particlegroup(settings, DISTGEN_INPUT_FILE, verbose=False)"
   ]
  },
  {
   "cell_type": "code",
   "execution_count": null,
   "metadata": {},
   "outputs": [],
   "source": [
    "gpt_plot_dist2d(PG, 'x', 'y', axis='equal')"
   ]
  },
  {
   "cell_type": "code",
   "execution_count": null,
   "metadata": {},
   "outputs": [],
   "source": [
    "gpt_plot_dist1d(PG, 't')"
   ]
  },
  {
   "cell_type": "markdown",
   "metadata": {},
   "source": [
    "# Run GPT"
   ]
  },
  {
   "cell_type": "code",
   "execution_count": null,
   "metadata": {},
   "outputs": [],
   "source": [
    "gpt_data = run_gpt_with_particlegroup(settings,\n",
    "                         gpt_input_file=GPT_INPUT_FILE,\n",
    "                         input_particle_group=PG,\n",
    "                         verbose=True,\n",
    "                         gpt_verbose=False,\n",
    "                         auto_phase=True,\n",
    "                         timeout=10000)"
   ]
  },
  {
   "cell_type": "markdown",
   "metadata": {},
   "source": [
    "# Plot GUI"
   ]
  },
  {
   "cell_type": "code",
   "execution_count": null,
   "metadata": {},
   "outputs": [],
   "source": [
    "gpt_plot_gui(gpt_data)"
   ]
  },
  {
   "cell_type": "markdown",
   "metadata": {},
   "source": [
    "# Individual example plots"
   ]
  },
  {
   "cell_type": "code",
   "execution_count": null,
   "metadata": {},
   "outputs": [],
   "source": [
    "# Example trend plot\n",
    "# ----------------------------------------------------------------------------------------------------------------------------------------------------------\n",
    "# Syntax: gpt_plot(gpt_data, var_1, var_2)     , variables can be e.g. 'mean_z', 'sigma_t', 'norm_emit_x', etc.\n",
    "\n",
    "# Options include:\n",
    "#      units = y_units            , units to use on the y-axis\n",
    "#      xlim = [min, max]          , x axis range\n",
    "#      ylim = [min, max]          , y axis range\n",
    "#      color = list               , colors to use for each line\n",
    "#      log_scale = True           , Plot y-axis with log scale\n",
    "#      include_ids = list         , show only particles with listed ids\n",
    "#      show_survivors_at_z = z    , show only particles that have survived to the screen at z, postprocessing options (see below) can be applied to this screen\n",
    "#      show_cursor = True         , show a data tooltip when you mouse over the line\n",
    "#      show_screens = True        , show so-called \"special\" screens with individual points in the plot\n",
    "\n",
    "gpt_plot(gpt_data, 'mean_z', ['sigma_x', 'sigma_y'], color = ['red', 'green'])"
   ]
  },
  {
   "cell_type": "code",
   "execution_count": null,
   "metadata": {},
   "outputs": [],
   "source": [
    "# Example 1D histogram\n",
    "# ----------------------------------------------------------------------------------------------------------------------------------------------------------\n",
    "# Syntax: gpt_plot_dist1d(gpt_data, var)     , variables can be 'x', 'y', 't', 'r', 'px', etc.\n",
    "\n",
    "# Options include:\n",
    "#      screen_z = z           , Get screen data from specific z value\n",
    "#      tout_t = t             , Get tout data from specific t value\n",
    "#      nbins = n              , Number of histogram bins\n",
    "#      table_on = True        , include a table with summary statistics\n",
    "#      plot_type = var_2      , what to plot on the y-axis, can be 'charge' (default) , 'sigma_x', 'norm_emit_x', etc.\n",
    "#      xlim = [min, max]      , x axis range\n",
    "#      ylim = [min, max]      , y axis range\n",
    "\n",
    "gpt_plot_dist1d(gpt_data, 't', screen_z=1.843, nbins=30)"
   ]
  },
  {
   "cell_type": "code",
   "execution_count": null,
   "metadata": {},
   "outputs": [],
   "source": [
    "# Example 2D histogram\n",
    "# ----------------------------------------------------------------------------------------------------------------------------------------------------------\n",
    "# Syntax: gpt_plot_dist2d(gpt_data, var_1, var_2)     , variables can be 'x', 'y', 't', 'r', 'px', etc.\n",
    "\n",
    "# Options include:\n",
    "#      screen_z = z           , Get screen data from specific z value\n",
    "#      tout_t = t             , Get tout data from specific t value\n",
    "#      nbins = [N, M]         , Number of histogram bins\n",
    "#      table_on = True        , include a table with summary statistics\n",
    "#      plot_type = type       , whether to show each particle, or a histogram. type can be either 'scatter' or 'histogram' (default)\n",
    "\n",
    "gpt_plot_dist2d(gpt_data, 'x', 'px', screen_z = 1.843, nbins = [30, 30])"
   ]
  },
  {
   "cell_type": "code",
   "execution_count": null,
   "metadata": {},
   "outputs": [],
   "source": [
    "# Example of postprocessing (used in any of the above plots as additional options)\n",
    "# ----------------------------------------------------------------------------------------------------------------------------------------------------------\n",
    "# Possible postprocessing options:\n",
    "#           take_range = (variable, range_min, range_max))    , e.g. take_range=('r', 0, 1.0e-3) , show only particles within range of a parameter\n",
    "#           take_slice = (variable, slice_index, n_slices))   , e.g. take_slice=('t', 24, 50)    , show only particles within the Nth slice of a parameter\n",
    "#           clip_to_charge = final_charge                     , e.g. clip_to_charge=1.0e-12      , radially clip particles down to a given charge\n",
    "#           clip_to_emit = final_emit                         , e.g. clip_to_emit=1.0e-6         , radially clip particles down to a given emittance\n",
    "#           cylindrical_copies = n_copies                     , e.g. cylindrical_copies=50       , add N copies of each particle to enforce cylindrical symmetry\n",
    "#           remove_spinning = True                            , e.g. remove_spinning = True      , removes correlations associated with being in a solenoid\n",
    "#           remove_correlation = (variable_1, variable_2, N)  , e.g. remove_correlation = ('t', 'pz', 1)  , removes correlations between variables up to polynomial order N   \n",
    "\n",
    "gpt_plot_dist2d(example_screen, 'x', 'px', cylindrical_copies=100)"
   ]
  },
  {
   "cell_type": "code",
   "execution_count": null,
   "metadata": {},
   "outputs": [],
   "source": [
    "# Particle trajectories\n",
    "# ----------------------------------------------------------------------------------------------------------------------------------------------------------\n",
    "# Options include:\n",
    "#      nlines = N                 , pick a random N lines to plot\n",
    "#      show_survivors_at_z = z    , show only particles that have survived to the screen at z, postprocessing options (see above) can be applied to this screen\n",
    "#      include_ids = list         , show only particles with listed ids\n",
    "#      \n",
    "gpt_plot_trajectory(gpt_data, 'z', 'r', nlines=200)"
   ]
  },
  {
   "cell_type": "code",
   "execution_count": null,
   "metadata": {},
   "outputs": [],
   "source": [
    "# Get screen from z position\n",
    "# ----------------------------------------------------------------------------------------------------------------------------------------------------------\n",
    "z = 1.843\n",
    "example_screen = get_screen_data(gpt_data, screen_z=z)[0]"
   ]
  },
  {
   "cell_type": "markdown",
   "metadata": {},
   "source": [
    "# Save and Load"
   ]
  },
  {
   "cell_type": "code",
   "execution_count": null,
   "metadata": {},
   "outputs": [],
   "source": [
    "save_directory = '.'\n",
    "os.listdir(save_directory)"
   ]
  },
  {
   "cell_type": "code",
   "execution_count": null,
   "metadata": {},
   "outputs": [],
   "source": [
    "file_to_save = 'example_save.h5'\n",
    "gpt_data.archive(h5=os.path.join(save_directory, file_to_save))"
   ]
  },
  {
   "cell_type": "code",
   "execution_count": null,
   "metadata": {},
   "outputs": [],
   "source": [
    "file_to_load = 'example_save.h5'\n",
    "gpt_data = GPT()\n",
    "gpt_data.load_archive(os.path.join(save_directory, file_to_load))"
   ]
  }
 ],
 "metadata": {
  "kernelspec": {
   "display_name": "Python 3 (ipykernel)",
   "language": "python",
   "name": "python3"
  },
  "language_info": {
   "codemirror_mode": {
    "name": "ipython",
    "version": 3
   },
   "file_extension": ".py",
   "mimetype": "text/x-python",
   "name": "python",
   "nbconvert_exporter": "python",
   "pygments_lexer": "ipython3",
   "version": "3.10.8"
  },
  "varInspector": {
   "cols": {
    "lenName": 16,
    "lenType": 16,
    "lenVar": 40
   },
   "kernels_config": {
    "python": {
     "delete_cmd_postfix": "",
     "delete_cmd_prefix": "del ",
     "library": "var_list.py",
     "varRefreshCmd": "print(var_dic_list())"
    },
    "r": {
     "delete_cmd_postfix": ") ",
     "delete_cmd_prefix": "rm(",
     "library": "var_list.r",
     "varRefreshCmd": "cat(var_dic_list()) "
    }
   },
   "types_to_exclude": [
    "module",
    "function",
    "builtin_function_or_method",
    "instance",
    "_Feature"
   ],
   "window_display": false
  }
 },
 "nbformat": 4,
 "nbformat_minor": 4
}
