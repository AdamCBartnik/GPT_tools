{
 "cells": [
  {
   "cell_type": "code",
   "execution_count": null,
   "metadata": {},
   "outputs": [],
   "source": [
    "%load_ext autoreload\n",
    "%autoreload 2\n",
    "%matplotlib widget\n",
    "\n",
    "import sys, os, copy, time\n",
    "\n",
    "import numpy as np\n",
    "from gpt import GPT\n",
    "from GPT_tools.GPTExtension import run_gpt_with_particlegroup\n",
    "from GPT_tools.cathode_particlegroup import get_cathode_particlegroup\n",
    "from GPT_tools.gpt_plot import gpt_plot, gpt_plot_dist1d, gpt_plot_dist2d\n",
    "from GPT_tools.gpt_plot_gui import gpt_plot_gui\n",
    "from GPT_tools.tools import get_screen_data"
   ]
  },
  {
   "cell_type": "code",
   "execution_count": null,
   "metadata": {},
   "outputs": [],
   "source": [
    "template_dir = '.'\n",
    "DISTGEN_INPUT_FILE = os.path.join(template_dir,'distgen.in.yaml')\n",
    "GPT_INPUT_FILE = os.path.join(template_dir,'gpt.in')"
   ]
  },
  {
   "cell_type": "markdown",
   "metadata": {},
   "source": [
    "# Machine settings"
   ]
  },
  {
   "cell_type": "code",
   "execution_count": null,
   "metadata": {},
   "outputs": [],
   "source": [
    "settings = {}\n",
    "\n",
    "settings['gun_voltage'] = 140 \n",
    "settings['buncher_voltage'] = 3.47\n",
    "settings['buncher_phi_rel'] = -90.0\n",
    "\n",
    "settings['sol_1_current'] = 0.0\n",
    "settings['sol_2_current'] = 1.995\n",
    "\n",
    "settings['total_charge:value'] = 5\n",
    "settings['total_charge:units'] = 'fC'\n",
    "\n",
    "settings['start:MTE:value'] = 80\n",
    "settings['start:MTE:units'] = 'meV'\n",
    "\n",
    "settings['transforms:t0:sigma_xy:value'] = 18.0\n",
    "settings['transforms:t0:sigma_xy:units'] = 'um'\n",
    "\n",
    "settings['transforms:t1:sigma_t:value'] = 8.4\n",
    "settings['transforms:t1:sigma_t:units'] = 'ps'\n",
    "settings['t_dist:alpha:value'] = 0.25"
   ]
  },
  {
   "cell_type": "code",
   "execution_count": null,
   "metadata": {},
   "outputs": [],
   "source": [
    "settings['space_charge'] = 1\n",
    "settings['GBacc'] = 5.5\n",
    "\n",
    "settings['n_particle'] = 2000\n",
    "settings['n_screens'] = 100"
   ]
  },
  {
   "cell_type": "markdown",
   "metadata": {},
   "source": [
    "# Get and plot initial distribution"
   ]
  },
  {
   "cell_type": "code",
   "execution_count": null,
   "metadata": {},
   "outputs": [],
   "source": [
    "PG = get_cathode_particlegroup(settings, DISTGEN_INPUT_FILE, verbose=False)"
   ]
  },
  {
   "cell_type": "code",
   "execution_count": null,
   "metadata": {},
   "outputs": [],
   "source": [
    "gpt_plot_dist2d(PG, 'x', 'y', axis='equal')"
   ]
  },
  {
   "cell_type": "code",
   "execution_count": null,
   "metadata": {},
   "outputs": [],
   "source": [
    "gpt_plot_dist1d(PG, 't')"
   ]
  },
  {
   "cell_type": "markdown",
   "metadata": {},
   "source": [
    "# Run GPT"
   ]
  },
  {
   "cell_type": "code",
   "execution_count": null,
   "metadata": {},
   "outputs": [],
   "source": [
    "gpt_data = run_gpt_with_particlegroup(settings,\n",
    "                         gpt_input_file=GPT_INPUT_FILE,\n",
    "                         input_particle_group=PG,\n",
    "                         verbose=True,\n",
    "                         gpt_verbose=False,\n",
    "                         auto_phase=True,\n",
    "                         timeout=10000)"
   ]
  },
  {
   "cell_type": "markdown",
   "metadata": {},
   "source": [
    "# Plot GUI"
   ]
  },
  {
   "cell_type": "code",
   "execution_count": null,
   "metadata": {},
   "outputs": [],
   "source": [
    "gpt_plot_gui(gpt_data)"
   ]
  },
  {
   "cell_type": "markdown",
   "metadata": {},
   "source": [
    "# Individual example plots"
   ]
  },
  {
   "cell_type": "code",
   "execution_count": null,
   "metadata": {},
   "outputs": [],
   "source": [
    "gpt_plot(gpt_data, 'mean_z', ['sigma_x', 'sigma_y'])"
   ]
  },
  {
   "cell_type": "code",
   "execution_count": null,
   "metadata": {},
   "outputs": [],
   "source": [
    "# Get screen from z position\n",
    "z = 1.843\n",
    "example_screen = copy.deepcopy(get_screen_data(gpt_data, screen_z=z)[0])"
   ]
  },
  {
   "cell_type": "code",
   "execution_count": null,
   "metadata": {},
   "outputs": [],
   "source": [
    "gpt_plot_dist2d(example_screen, 'x', 'px', clip_to_charge=8e-17, cylindrical_copies=100)"
   ]
  },
  {
   "cell_type": "code",
   "execution_count": null,
   "metadata": {},
   "outputs": [],
   "source": [
    "gpt_plot_dist2d(example_screen, 'x', 'px', clip_to_charge=8e-17, cylindrical_copies=100)"
   ]
  },
  {
   "cell_type": "markdown",
   "metadata": {},
   "source": [
    "# Save and Load"
   ]
  },
  {
   "cell_type": "code",
   "execution_count": null,
   "metadata": {},
   "outputs": [],
   "source": [
    "save_directory = '.'\n",
    "os.listdir(save_directory)"
   ]
  },
  {
   "cell_type": "code",
   "execution_count": null,
   "metadata": {},
   "outputs": [],
   "source": [
    "file_to_save = 'example_save.h5'\n",
    "gpt_data.archive(h5=os.path.join(save_directory, file_to_save))"
   ]
  },
  {
   "cell_type": "code",
   "execution_count": null,
   "metadata": {},
   "outputs": [],
   "source": [
    "file_to_load = 'example_save.h5'\n",
    "gpt_data = GPT()\n",
    "gpt_data.load_archive(os.path.join(save_directory, file_to_load))"
   ]
  }
 ],
 "metadata": {
  "kernelspec": {
   "display_name": "Python 3 (ipykernel)",
   "language": "python",
   "name": "python3"
  },
  "language_info": {
   "codemirror_mode": {
    "name": "ipython",
    "version": 3
   },
   "file_extension": ".py",
   "mimetype": "text/x-python",
   "name": "python",
   "nbconvert_exporter": "python",
   "pygments_lexer": "ipython3",
   "version": "3.10.8"
  },
  "varInspector": {
   "cols": {
    "lenName": 16,
    "lenType": 16,
    "lenVar": 40
   },
   "kernels_config": {
    "python": {
     "delete_cmd_postfix": "",
     "delete_cmd_prefix": "del ",
     "library": "var_list.py",
     "varRefreshCmd": "print(var_dic_list())"
    },
    "r": {
     "delete_cmd_postfix": ") ",
     "delete_cmd_prefix": "rm(",
     "library": "var_list.r",
     "varRefreshCmd": "cat(var_dic_list()) "
    }
   },
   "types_to_exclude": [
    "module",
    "function",
    "builtin_function_or_method",
    "instance",
    "_Feature"
   ],
   "window_display": false
  }
 },
 "nbformat": 4,
 "nbformat_minor": 4
}
